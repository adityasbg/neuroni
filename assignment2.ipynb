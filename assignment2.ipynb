{
 "cells": [
  {
   "cell_type": "raw",
   "metadata": {},
   "source": [
    "1.1\n",
    "Write a Python Program to implement your own myreduce() function which works exactly like\n",
    "Python's built-in function reduce()"
   ]
  },
  {
   "cell_type": "code",
   "execution_count": 148,
   "metadata": {},
   "outputs": [],
   "source": [
    "def myReduce(funct ,iterable):\n",
    "        a=iterable[0]\n",
    "        for i  in range (1,len(iterable)):\n",
    "            a=funct(a ,  iterable[i])\n",
    "            \n",
    "        return a\n",
    "            \n",
    "    "
   ]
  },
  {
   "cell_type": "code",
   "execution_count": 149,
   "metadata": {},
   "outputs": [
    {
     "name": "stdout",
     "output_type": "stream",
     "text": [
      "15\n",
      "120\n"
     ]
    }
   ],
   "source": [
    "lis=[1,2,3,4,5]\n",
    "funct1 =lambda a,b :  a+b\n",
    "funct2 =lambda a,b : a*b\n",
    "print(myReduce(funct1 ,lis))\n",
    "print(myReduce(funct2 ,lis))"
   ]
  },
  {
   "cell_type": "raw",
   "metadata": {},
   "source": [
    "1.2\n",
    "Write a Python program to implement your own myfilter() function which works exactly like\n",
    "Python's built-in function filter()"
   ]
  },
  {
   "cell_type": "code",
   "execution_count": 150,
   "metadata": {},
   "outputs": [
    {
     "name": "stdout",
     "output_type": "stream",
     "text": [
      "[2, 4]\n"
     ]
    }
   ],
   "source": [
    "def myfilter(funct ,iterable):\n",
    "    tempList =[]\n",
    "    for i in  iterable:\n",
    "        if (funct(i)):\n",
    "            tempList.append(i)\n",
    "            \n",
    "            \n",
    "    return tempList\n",
    "            \n",
    "            \n",
    "lis=[1,2,3,4,5]    \n",
    "\n",
    "evenFilter =lambda a : a%2 ==0 \n",
    "\n",
    "print(myfilter(evenFilter ,lis))\n"
   ]
  },
  {
   "cell_type": "raw",
   "metadata": {},
   "source": [
    "2.\n",
    "Implement List comprehensions to produce the following lists.\n",
    "Write List comprehensions to produce the following Lists\n",
    "['A', 'C', 'A', 'D', 'G', 'I', ’L’, ‘ D’]\n",
    "['x', 'xx', 'xxx', 'xxxx', 'y', 'yy', 'yyy', 'yyyy', 'z', 'zz', 'zzz', 'zzzz']\n",
    "['x', 'y', 'z', 'xx', 'yy', 'zz', 'xx', 'yy', 'zz', 'xxxx', 'yyyy', 'zzzz']\n",
    "\n",
    "\n",
    "[[2], [3], [4], [3], [4], [5], [4], [5], [6]]\n",
    "[[2, 3, 4, 5], [3, 4, 5, 6], [4, 5, 6, 7], [5, 6, 7, 8]]\n",
    "[(1, 1), (2, 1), (3, 1), (1, 2), (2, 2), (3, 2), (1, 3), (2, 3), (3, 3)]"
   ]
  },
  {
   "cell_type": "code",
   "execution_count": 151,
   "metadata": {},
   "outputs": [
    {
     "name": "stdout",
     "output_type": "stream",
     "text": [
      "['A', 'C', 'A', 'D', 'G', 'I', 'L', 'D']\n",
      "['x', 'xx', 'xxx', 'xxxx', 'y', 'yy', 'yyy', 'yyyy', 'z', 'zz', 'zzz', 'zzzz']\n",
      "['x', 'y', 'z', 'xx', 'yy', 'zz', 'xxx', 'yyy', 'zzz', 'xxxx', 'yyyy', 'zzzz']\n",
      "[[2], [3], [4], [3], [4], [5], [4], [5], [6]]\n",
      "[[2, 3, 4, 5], [3, 4, 5, 6], [4, 5, 6, 7], [5, 6, 7, 8]]\n",
      "[(1, 1), (2, 1), (3, 1), (1, 2), (2, 2), (3, 2), (1, 3), (2, 3), (3, 3)]\n"
     ]
    }
   ],
   "source": [
    "x=\"ACADGILD\"\n",
    "print([i for i in x ])\n",
    "string =\"xyz\"\n",
    "print([j*i for j in string for i in range(1,5)])\n",
    "print([j*i for i in range(1 , 5)  for j in string ])\n",
    "print([[i+j] for j in range(1, 4)  for i in range (1,4)])\n",
    "print([ [i+j for j in range(1, 5 ) ]   for i in range(1, 5)] )\n",
    "print([ (j,i) for  i in range (1 , 4)  for j in range (1, 4)])\n"
   ]
  },
  {
   "cell_type": "code",
   "execution_count": 152,
   "metadata": {},
   "outputs": [
    {
     "name": "stdout",
     "output_type": "stream",
     "text": [
      "Longest word :  uuuuuuo\n"
     ]
    }
   ],
   "source": [
    "def longestWord(lis):\n",
    "    length =-1\n",
    "    idx=0\n",
    "    for i in lis :\n",
    "        if(len(i)>length):\n",
    "            length=len(i)\n",
    "            idx=lis.index(i)\n",
    "        \n",
    "    return lis[idx]\n",
    "\n",
    "            \n",
    "print(\"Longest word : \",longestWord(['aa','shj' ,'dsah' ,'uuuuuuo']))  \n",
    "            "
   ]
  },
  {
   "cell_type": "raw",
   "metadata": {},
   "source": [
    "Task 2:\n",
    "1.1\n",
    "Write a Python Program(with class concepts) to find the area of the triangle using the below\n",
    "formula.\n",
    "area = (s*(s-a)*(s-b)*(s-c)) ** 0.5\n",
    "Function to take the length of the sides of triangle from user should be defined in the parent\n",
    "class and function to calculate the area should be defined in subclass\n"
   ]
  },
  {
   "cell_type": "code",
   "execution_count": 153,
   "metadata": {},
   "outputs": [],
   "source": [
    "class Triangle:\n",
    "    \n",
    "    \n",
    "    def __init__(self , a ,b ,c):\n",
    "        self.a =a\n",
    "        self.b = b\n",
    "        self.c =c\n",
    "        self.s=(self.a +self.b+self.c)/2\n",
    "        \n",
    " \n"
   ]
  },
  {
   "cell_type": "code",
   "execution_count": 164,
   "metadata": {},
   "outputs": [
    {
     "name": "stdout",
     "output_type": "stream",
     "text": [
      "area : 216.0\n"
     ]
    }
   ],
   "source": [
    "class SubTri(Triangle):\n",
    "    \n",
    "    def area(self):\n",
    "        return (self.s*(self.s-self.a)*(self.s-self.b)*(self.s-self.c)) ** 0.5\n",
    "t = SubTri(24,30,18)  \n",
    "print(\"area :\",t.area())\n",
    "        "
   ]
  },
  {
   "cell_type": "raw",
   "metadata": {},
   "source": [
    "1.2\n",
    "Write a function filter_long_words() that takes a list of words and an integer n and returns the list\n",
    "of words that are longer than n."
   ]
  },
  {
   "cell_type": "code",
   "execution_count": 156,
   "metadata": {},
   "outputs": [],
   "source": [
    "def filter_long_words(lis , n):\n",
    "    tempList=[]\n",
    "    for i in lis:\n",
    "        if(len(i) > n):\n",
    "            tempList.append(i)\n",
    "            \n",
    "            \n",
    "    return tempList\n",
    "        "
   ]
  },
  {
   "cell_type": "code",
   "execution_count": 157,
   "metadata": {},
   "outputs": [
    {
     "name": "stdout",
     "output_type": "stream",
     "text": [
      "['hello', 'laught', 'happy', 'condition']\n",
      "['laught', 'condition']\n"
     ]
    }
   ],
   "source": [
    "lis=['hey' ,'hello' ,'laught' ,'happy' , 'play' , 'condition' ,'i' ,'we']\n",
    "print(filter_long_words(lis ,4))\n",
    "\n",
    "print(filter_long_words(lis ,5))"
   ]
  },
  {
   "cell_type": "raw",
   "metadata": {},
   "source": [
    "2.1\n",
    "Write a Python program using function concept that maps list of words into a list of integers\n",
    "representing the lengths of the corresponding words​ .\n",
    "Hint: ​ If a list [ ab,cde,erty] is passed on to the python function output should come as [2,3,4]\n",
    "Here 2,3 and 4 are the lengths of the words in the list."
   ]
  },
  {
   "cell_type": "code",
   "execution_count": 158,
   "metadata": {},
   "outputs": [
    {
     "name": "stdout",
     "output_type": "stream",
     "text": [
      "[3, 5, 6, 5, 4, 9, 1, 2]\n"
     ]
    }
   ],
   "source": [
    "lis=['hey' ,'hello' ,'laught' ,'happy' , 'play' , 'condition' ,'i' ,'we']\n",
    "print(list(map(lambda a :len(a) , lis)))"
   ]
  },
  {
   "cell_type": "raw",
   "metadata": {},
   "source": [
    "2.2\n",
    "Write a Python function which takes a character (i.e. a string of length 1) and returns True if it is\n",
    "a vowel, False otherwise."
   ]
  },
  {
   "cell_type": "code",
   "execution_count": 159,
   "metadata": {},
   "outputs": [],
   "source": [
    "def isVowel(char):\n",
    "    vowelset ={'a':True ,'e':True ,'i':True ,'o':True ,'u':True}\n",
    "    flag=True \n",
    "    \n",
    "    if(len(char)>1):\n",
    "        flag=False\n",
    "    char=str.lower(char)\n",
    "    val =vowelset.get(char)\n",
    "    if(val==None):\n",
    "        flag=False\n",
    "    if(val):\n",
    "        flag=True\n",
    "    return flag\n",
    "            \n",
    "        \n",
    "            \n",
    "    "
   ]
  },
  {
   "cell_type": "code",
   "execution_count": 160,
   "metadata": {},
   "outputs": [
    {
     "name": "stdout",
     "output_type": "stream",
     "text": [
      "kk is : False\n",
      "a is : True\n",
      "b is : False\n",
      "u is : True\n"
     ]
    }
   ],
   "source": [
    "print(\"kk is :\",isVowel('kk'))\n",
    "print(\"a is :\",isVowel('a'))\n",
    "print(\"b is :\",isVowel('b'))\n",
    "print(\"u is :\",isVowel('u'))"
   ]
  },
  {
   "cell_type": "code",
   "execution_count": null,
   "metadata": {},
   "outputs": [],
   "source": []
  }
 ],
 "metadata": {
  "kernelspec": {
   "display_name": "Python 3",
   "language": "python",
   "name": "python3"
  },
  "language_info": {
   "codemirror_mode": {
    "name": "ipython",
    "version": 3
   },
   "file_extension": ".py",
   "mimetype": "text/x-python",
   "name": "python",
   "nbconvert_exporter": "python",
   "pygments_lexer": "ipython3",
   "version": "3.7.5"
  }
 },
 "nbformat": 4,
 "nbformat_minor": 2
}
